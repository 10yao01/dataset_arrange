{
 "cells": [
  {
   "cell_type": "code",
   "execution_count": 1,
   "metadata": {},
   "outputs": [],
   "source": [
    "#Fill these file paths with the locations on your machine.\n",
    "PATH_TO_PASTIS = 'D://content//PASTIS//PASTIS'\n",
    "\n",
    "\n",
    "\n",
    "import torch\n",
    "import numpy as np\n",
    "import matplotlib.pyplot as plt\n",
    "from matplotlib.colors import ListedColormap\n",
    "import matplotlib\n",
    "import os\n",
    "matplotlib.use('agg')\n",
    "\n",
    "# 构建colormap用于画图\n",
    "cm = matplotlib.cm.get_cmap('tab20')\n",
    "def_colors = cm.colors\n",
    "cus_colors = ['k'] + [def_colors[i] for i in range(1,20)]+['w']   # 合并数组\n",
    "cmap = ListedColormap(colors = cus_colors, name='agri',N=21)\n",
    "\n",
    "\n",
    "\n",
    "def get_rgb(x):\n",
    "    \"\"\"Utility function to get a displayable rgb image \n",
    "    from a Sentinel-2 time series.\n",
    "    \"\"\"\n",
    "    batch_index = 0\n",
    "    im_list = []\n",
    "    for t_show in range(x.shape[1]):\n",
    "        im = x[batch_index, t_show, [2,1,0]].cpu().numpy() # to (128,128,10)\n",
    "        mx = im.max(axis=(1,2))\n",
    "        mi = im.min(axis=(1,2))   \n",
    "        im = (im - mi[:,None,None])/(mx - mi)[:,None,None] # 归一化\n",
    "        im = im.swapaxes(0,2).swapaxes(0,1)\n",
    "        im = np.clip(im, a_max=1, a_min=0) # 将值限定在a_min到a_max之间\n",
    "        im_list.append(im)\n",
    "    return im_list\n",
    "\n",
    "def save_rgb(x,dates,patch_id):\n",
    "    \"\"\"\n",
    "    save rgb image\n",
    "    \"\"\"\n",
    "    batch_index = 0\n",
    "    for t_show in range(x.shape[1]):\n",
    "        im = x[batch_index, t_show, [2,1,0]].cpu().numpy() # to (128,128,10)\n",
    "        mx = im.max(axis=(1,2))\n",
    "        mi = im.min(axis=(1,2))   \n",
    "        im = (im - mi[:,None,None])/(mx - mi)[:,None,None] # 归一化\n",
    "        im = im.swapaxes(0,2).swapaxes(0,1)\n",
    "        im = np.clip(im, a_max=1, a_min=0) # 将值限定在a_min到a_max之间\n",
    "        if not os.path.exists(\"pic/{}\".format(patch_id)):\n",
    "            os.mkdir(\"pic/{}\".format(patch_id))\n",
    "        plt.imsave(\"pic/{}/index{}date{}.jpg\".format(patch_id,t_show,dates[batch_index][t_show]),im)\n",
    "        "
   ]
  },
  {
   "cell_type": "code",
   "execution_count": 3,
   "metadata": {},
   "outputs": [
    {
     "name": "stdout",
     "output_type": "stream",
     "text": [
      "Reading patch metadata . . .\n",
      "Done.\n",
      "Dataset ready.\n",
      "2433\n"
     ]
    }
   ],
   "source": [
    "import sys\n",
    "from dataloader_collect import PASTIS_Dataset\n",
    "import collate\n",
    "dt = PASTIS_Dataset(PATH_TO_PASTIS, norm=True, target='semantic')\n",
    "# If you only need to evaluate semantic segmentation use target='semantic'\n",
    "\n",
    "\n",
    "# Batch_size设置为1\n",
    "# 用于显示每个patch的图像\n",
    "dl = torch.utils.data.DataLoader(dt, batch_size=1, collate_fn=collate.pad_collate, shuffle=False)\n",
    "print(dl.__len__())"
   ]
  },
  {
   "cell_type": "markdown",
   "metadata": {},
   "source": [
    "# 用作最后的图片筛选"
   ]
  },
  {
   "cell_type": "code",
   "execution_count": 10,
   "metadata": {},
   "outputs": [
    {
     "name": "stdout",
     "output_type": "stream",
     "text": [
      "itemtensor([1912], dtype=torch.int32),id_patchtensor([40035])\n",
      "itemtensor([1935], dtype=torch.int32),id_patchtensor([40058])\n",
      "itemtensor([1951], dtype=torch.int32),id_patchtensor([40074])\n",
      "itemtensor([2005], dtype=torch.int32),id_patchtensor([40128])\n",
      "itemtensor([2006], dtype=torch.int32),id_patchtensor([40129])\n",
      "itemtensor([2367], dtype=torch.int32),id_patchtensor([40497])\n",
      "itemtensor([2394], dtype=torch.int32),id_patchtensor([40524])\n"
     ]
    }
   ],
   "source": [
    "s  = {40035,40058,40074,40128,40129,40497,40524}\n",
    "for id, batch in enumerate(dl):\n",
    "\n",
    "    (x, dates), y, item, id_patch = batch\n",
    "    if id_patch.item() in s:\n",
    "        pixel_semantic_annotation = y\n",
    "        print(\"item{},id_patch{}\".format(item[0],id_patch[0]))\n",
    "        im = save_rgb(x,dates,patch_id=id_patch.item())"
   ]
  },
  {
   "cell_type": "code",
   "execution_count": null,
   "metadata": {},
   "outputs": [],
   "source": []
  }
 ],
 "metadata": {
  "kernelspec": {
   "display_name": "pytorch",
   "language": "python",
   "name": "python3"
  },
  "language_info": {
   "codemirror_mode": {
    "name": "ipython",
    "version": 3
   },
   "file_extension": ".py",
   "mimetype": "text/x-python",
   "name": "python",
   "nbconvert_exporter": "python",
   "pygments_lexer": "ipython3",
   "version": "3.7.15"
  }
 },
 "nbformat": 4,
 "nbformat_minor": 2
}
