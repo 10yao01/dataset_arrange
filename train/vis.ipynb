{
 "cells": [
  {
   "cell_type": "code",
   "execution_count": 1,
   "metadata": {},
   "outputs": [],
   "source": [
    "#Fill these file paths with the locations on your machine.\n",
    "PATH_TO_PASTIS = 'D://content//PASTIS//PASTIS'\n",
    "\n",
    "\n",
    "\n",
    "import torch\n",
    "import numpy as np\n",
    "import matplotlib.pyplot as plt\n",
    "from matplotlib.colors import ListedColormap\n",
    "import matplotlib\n",
    "import os\n",
    "matplotlib.use('agg')\n",
    "\n",
    "# 构建colormap用于画图\n",
    "cm = matplotlib.cm.get_cmap('tab20')\n",
    "def_colors = cm.colors\n",
    "cus_colors = ['k'] + [def_colors[i] for i in range(1,20)]+['w']   # 合并数组\n",
    "cmap = ListedColormap(colors = cus_colors, name='agri',N=21)\n",
    "\n",
    "\n",
    "\n",
    "def get_rgb(x):\n",
    "    \"\"\"Utility function to get a displayable rgb image \n",
    "    from a Sentinel-2 time series.\n",
    "    \"\"\"\n",
    "    batch_index = 0\n",
    "    im_list = []\n",
    "    for t_show in range(x.shape[1]):\n",
    "        im = x[batch_index, t_show, [2,1,0]].cpu().numpy() # to (128,128,10)\n",
    "        mx = im.max(axis=(1,2))\n",
    "        mi = im.min(axis=(1,2))   \n",
    "        im = (im - mi[:,None,None])/(mx - mi)[:,None,None] # 归一化\n",
    "        im = im.swapaxes(0,2).swapaxes(0,1)\n",
    "        im = np.clip(im, a_max=1, a_min=0) # 将值限定在a_min到a_max之间\n",
    "        im_list.append(im)\n",
    "    return im_list\n",
    "\n",
    "def save_rgb(x,dates,patch_id):\n",
    "    \"\"\"\n",
    "    save rgb image\n",
    "    \"\"\"\n",
    "    batch_index = 0\n",
    "    for t_show in range(x.shape[1]):\n",
    "        im = x[batch_index, t_show, [2,1,0]].cpu().numpy() # to (128,128,10)\n",
    "        mx = im.max(axis=(1,2))\n",
    "        mi = im.min(axis=(1,2))   \n",
    "        im = (im - mi[:,None,None])/(mx - mi)[:,None,None] # 归一化\n",
    "        im = im.swapaxes(0,2).swapaxes(0,1)\n",
    "        im = np.clip(im, a_max=1, a_min=0) # 将值限定在a_min到a_max之间\n",
    "        if not os.path.exists(\"pic/{}\".format(patch_id)):\n",
    "            os.mkdir(\"pic/{}\".format(patch_id))\n",
    "        plt.imsave(\"pic/{}/index{}date{}.jpg\".format(patch_id,t_show,dates[batch_index][t_show]),im)\n",
    "        "
   ]
  },
  {
   "cell_type": "markdown",
   "metadata": {},
   "source": [
    "# 将时间差转换为具体日期"
   ]
  },
  {
   "cell_type": "code",
   "execution_count": 2,
   "metadata": {},
   "outputs": [],
   "source": [
    "from datetime import datetime,timedelta\n",
    "def dateconvert(date):\n",
    "    reference_date = \"2018-09-01\"\n",
    "    reference_date = datetime(*map(int, reference_date.split(\"-\")))\n",
    "    new_date = reference_date + timedelta(days=date)\n",
    "    return new_date.strftime(\"%Y%m%d\")"
   ]
  },
  {
   "cell_type": "code",
   "execution_count": 3,
   "metadata": {},
   "outputs": [
    {
     "name": "stdout",
     "output_type": "stream",
     "text": [
      "Reading patch metadata . . .\n",
      "Done.\n",
      "Dataset ready.\n",
      "487\n"
     ]
    }
   ],
   "source": [
    "import sys\n",
    "from dataloader import PASTIS_Dataset\n",
    "sys.path.append(r\"D://content//PASTIS_github\")\n",
    "import collate\n",
    "\n",
    "folds = [1]\n",
    "\n",
    "dt = PASTIS_Dataset(PATH_TO_PASTIS, norm=True, target='semantic',folds=folds)\n",
    "# If you only need to evaluate semantic segmentation use target='semantic'\n",
    "\n",
    "\n",
    "# Batch_size设置为1\n",
    "# 用于显示每个patch的图像\n",
    "dl = torch.utils.data.DataLoader(dt, batch_size=1, collate_fn=collate.pad_collate, shuffle=False)\n",
    "print(dl.__len__())"
   ]
  },
  {
   "cell_type": "markdown",
   "metadata": {},
   "source": [
    "# 显示筛选之后的图片"
   ]
  },
  {
   "cell_type": "code",
   "execution_count": 5,
   "metadata": {},
   "outputs": [
    {
     "name": "stdout",
     "output_type": "stream",
     "text": [
      "id_patchtensor([10000])\n"
     ]
    }
   ],
   "source": [
    "for id, batch in enumerate(dl):\n",
    "\n",
    "    (x, dates), y, id_patch = batch\n",
    "    # if item.item() > 1818:\n",
    "    if True:\n",
    "        # print(\"item{},id_patch{}\".format(item[0],id_patch[0]))\n",
    "        fix, axes = plt.subplots(2,2, figsize=(20,20))\n",
    "        # 对于 target = semantic y 只有一个label信息\n",
    "        pixel_semantic_annotation = y\n",
    "        print(\"id_patch{}\".format(id_patch[0]))\n",
    "        # # x is a dictionary thay contains the Sentinel-2 time series\n",
    "        # # in the 'S2' key, shape: B x T x C x H x W\n",
    "        # print(x.shape)\n",
    "        # # dates contains the observation dates of each image, shape: B x T\n",
    "        # print(dates.shape)\n",
    "        # # y contains the different ground truth annotations used for panoptic segmentation\n",
    "        # # (\n",
    "        # #     target_heatmap,\n",
    "        # #     instance_ids,\n",
    "        # #     pixel_to_instance_mapping,\n",
    "        # #     instance_bbox_size,\n",
    "        # #     object_semantic_annotation,\n",
    "        # #     pixel_semantic_annotation,\n",
    "        # # ) = y.split((1, 1, 1, 2, 1, 1), dim=-1)\n",
    "        # print(pixel_semantic_annotation[0])\n",
    "        # print(dates[0])\n",
    "\n",
    "            \n",
    "        im = get_rgb(x)\n",
    "\n",
    "        for i in range(2):\n",
    "            for j in range(2):\n",
    "                axes[i][j].imshow(im[i * 2 + j])\n",
    "                axes[i][j].set_title(\"date{}\".format(dateconvert(dates[0][i * 2 + j].item())))\n",
    "\n",
    "        plt.savefig(\"D://content//PASTIS//data//vis//Fold{}//patch{}.png\".format(folds[0],id_patch.item()))\n",
    "        # plt.show()\n",
    "        # print(im1.shape)  #(128,128,3)\n",
    "        # print(pixel_semantic_annotation[0].squeeze().size())   #(128,128)\n",
    "        plt.clf()\n",
    "        plt.close()\n",
    "    break"
   ]
  },
  {
   "cell_type": "markdown",
   "metadata": {},
   "source": [
    "# 将选择到的图像的日期以及id存入data.json\n",
    "## 使用dataloader_date.py文件"
   ]
  },
  {
   "cell_type": "code",
   "execution_count": 24,
   "metadata": {},
   "outputs": [],
   "source": [
    "import json\n",
    "load_dict = {}\n",
    "features = []\n",
    "for id, batch in enumerate(dl):\n",
    "\n",
    "    (x, dates), y, item, id_patch, date = batch\n",
    "    # print(type(dateconvert(dates[0][0].item())))\n",
    "    patch_dict = {}\n",
    "    date_list = date[0].tolist()\n",
    "    patch_dict[\"ID_PATCH\"] = \"{}\".format(id_patch.item())\n",
    "    date_dict = {}\n",
    "    for i,date_id in enumerate(date_list):\n",
    "        date_dict[\"{}\".format(date_id)] = dateconvert(dates[0][i].item())\n",
    "    patch_dict[\"DATE\"] = date_dict\n",
    "    features.append(patch_dict)\n",
    "load_dict[\"features\"] = features\n",
    "with open(\"data.json\", 'w') as write_f:\n",
    "\tjson.dump(load_dict, write_f, indent=4, ensure_ascii=False)"
   ]
  },
  {
   "cell_type": "code",
   "execution_count": 28,
   "metadata": {},
   "outputs": [
    {
     "data": {
      "text/plain": [
       "['1', '2']"
      ]
     },
     "execution_count": 28,
     "metadata": {},
     "output_type": "execute_result"
    }
   ],
   "source": [
    "a = {\"1\":1,\"2\":2}"
   ]
  },
  {
   "cell_type": "code",
   "execution_count": null,
   "metadata": {},
   "outputs": [],
   "source": []
  }
 ],
 "metadata": {
  "kernelspec": {
   "display_name": "pytorch",
   "language": "python",
   "name": "python3"
  },
  "language_info": {
   "codemirror_mode": {
    "name": "ipython",
    "version": 3
   },
   "file_extension": ".py",
   "mimetype": "text/x-python",
   "name": "python",
   "nbconvert_exporter": "python",
   "pygments_lexer": "ipython3",
   "version": "3.7.15"
  }
 },
 "nbformat": 4,
 "nbformat_minor": 2
}
